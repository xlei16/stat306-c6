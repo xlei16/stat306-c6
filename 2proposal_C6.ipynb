{
 "cells": [
  {
   "cell_type": "markdown",
   "id": "8ca18641-5691-4b20-8530-192b75ca5223",
   "metadata": {},
   "source": [
    "# Finding Relationships in Data - Project Proposal\n",
    "Group C6: Carter Yam, Tony Zhou, Ria Ji."
   ]
  },
  {
   "cell_type": "markdown",
   "id": "7e902f3b-d972-4f24-82ee-fc6e5ea6dc19",
   "metadata": {},
   "source": [
    "## Introduction"
   ]
  },
  {
   "cell_type": "markdown",
   "id": "7f51f122-f381-48a0-9acb-5429dd17cc7e",
   "metadata": {},
   "source": [
    "### Source of Data"
   ]
  },
  {
   "cell_type": "markdown",
   "id": "8266d204-d295-4603-9db4-f46c2cb3a477",
   "metadata": {},
   "source": [
    "### Data Description"
   ]
  },
  {
   "cell_type": "markdown",
   "id": "561b0503-098c-4d3f-8606-35f5d358b0b6",
   "metadata": {},
   "source": [
    "## Research Question"
   ]
  },
  {
   "cell_type": "markdown",
   "id": "c91b470e-db43-46ba-8fd9-2d69c3ac1ce2",
   "metadata": {},
   "source": [
    "## Tasks Assignment"
   ]
  },
  {
   "cell_type": "markdown",
   "id": "1840d016-a2e1-464e-a323-2819d24d019d",
   "metadata": {},
   "source": [
    "> 1. **Introduction**\n",
    "\n",
    "\n",
    "> 2. **Analysis**\n",
    "\n",
    "\n",
    "> 3. **Conclusion**"
   ]
  },
  {
   "cell_type": "markdown",
   "id": "d3b86523-90f8-4e5e-9ff5-b18b605c235f",
   "metadata": {},
   "source": [
    "# <center>References</center>"
   ]
  },
  {
   "cell_type": "markdown",
   "id": "db9b1a31-3ec2-4efb-a67d-2d25ecccd816",
   "metadata": {},
   "source": [
    "..."
   ]
  }
 ],
 "metadata": {
  "kernelspec": {
   "display_name": "R",
   "language": "R",
   "name": "ir"
  },
  "language_info": {
   "codemirror_mode": "r",
   "file_extension": ".r",
   "mimetype": "text/x-r-source",
   "name": "R",
   "pygments_lexer": "r",
   "version": "4.0.3"
  }
 },
 "nbformat": 4,
 "nbformat_minor": 5
}
