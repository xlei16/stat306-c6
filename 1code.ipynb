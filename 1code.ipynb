{
 "cells": [
  {
   "cell_type": "code",
   "execution_count": 4,
   "id": "1b121970-7644-42de-9747-d634738357da",
   "metadata": {},
   "outputs": [],
   "source": [
    "# data url: \"https://drive.google.com/uc?export=download&id=1IY8gF2keJMPcpF8N1L_4ImyvqjJ7iJFg\""
   ]
  },
  {
   "cell_type": "code",
   "execution_count": null,
   "id": "c34e9905-4008-425d-aec3-ca0bba700cf2",
   "metadata": {},
   "outputs": [],
   "source": []
  }
 ],
 "metadata": {
  "kernelspec": {
   "display_name": "R",
   "language": "R",
   "name": "ir"
  },
  "language_info": {
   "codemirror_mode": "r",
   "file_extension": ".r",
   "mimetype": "text/x-r-source",
   "name": "R",
   "pygments_lexer": "r",
   "version": "4.0.3"
  }
 },
 "nbformat": 4,
 "nbformat_minor": 5
}
